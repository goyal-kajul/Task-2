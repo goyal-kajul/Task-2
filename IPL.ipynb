{
 "cells": [
  {
   "cell_type": "markdown",
   "metadata": {},
   "source": [
    "# Data Set questions"
   ]
  },
  {
   "cell_type": "raw",
   "metadata": {},
   "source": [
    "Find answers to following queries:\n",
    "- Which team has won/lost maximum number of matches while chasing?\n",
    "- Which toss decision is best for each ground?\n",
    "- Which player has won maximum number of MoM awards while chasing?\n",
    "- Which batsman has played maximum number of dot balls?\n",
    "- Which batsmen came to crease but never got a chance to face a ball?\n",
    "- Which bowler has hit for maximum number of 1s/2s/3s/4s/6s?\n",
    "- Which batsman got stumped out maximum number of times?\n",
    "- Which non-striker has been part of maximum number of runouts?\n",
    "- Make at least 5 more new queries and find answers to them."
   ]
  },
  {
   "cell_type": "code",
   "execution_count": 2,
   "metadata": {},
   "outputs": [],
   "source": [
    "import numpy as np"
   ]
  },
  {
   "cell_type": "code",
   "execution_count": 3,
   "metadata": {},
   "outputs": [],
   "source": [
    "import pandas as pd"
   ]
  },
  {
   "cell_type": "code",
   "execution_count": 30,
   "metadata": {},
   "outputs": [],
   "source": [
    "df=pd.read_csv(\"matches.csv\")"
   ]
  },
  {
   "cell_type": "code",
   "execution_count": 31,
   "metadata": {},
   "outputs": [],
   "source": [
    "df[pd.isnull(df['city'])]\n",
    "df['city'].fillna('Amsterdam',inplace=True)"
   ]
  },
  {
   "cell_type": "code",
   "execution_count": 32,
   "metadata": {},
   "outputs": [],
   "source": [
    "df[pd.isnull(df['winner'])]\n",
    "df['toss_winner'].fillna('Tie',inplace=True)"
   ]
  },
  {
   "cell_type": "code",
   "execution_count": 24,
   "metadata": {},
   "outputs": [],
   "source": [
    "win=df.query(\"win_by_wickets>0\")"
   ]
  },
  {
   "cell_type": "markdown",
   "metadata": {},
   "source": [
    "# Which team has won maximum number of matches while chasing?"
   ]
  },
  {
   "cell_type": "code",
   "execution_count": 25,
   "metadata": {
    "scrolled": true
   },
   "outputs": [
    {
     "name": "stdout",
     "output_type": "stream",
     "text": [
      "Kolkata Knight Riders has won maximum matches while chasing\n"
     ]
    }
   ],
   "source": [
    "print(\"{} has won maximum matches while chasing\".format(win['winner'].value_counts().idxmax()))"
   ]
  },
  {
   "cell_type": "code",
   "execution_count": 26,
   "metadata": {},
   "outputs": [],
   "source": [
    "lost=df.query(\"win_by_wickets==0 and (toss_decision=='field' or (toss_decision=='bat' and toss_winner!=winner))\")"
   ]
  },
  {
   "cell_type": "markdown",
   "metadata": {},
   "source": [
    "# Which team has lost maximum number of matches while chasing?"
   ]
  },
  {
   "cell_type": "code",
   "execution_count": 27,
   "metadata": {},
   "outputs": [
    {
     "name": "stdout",
     "output_type": "stream",
     "text": [
      "Mumbai Indians has lost maximum matches while chasing\n"
     ]
    }
   ],
   "source": [
    "print(\"{} has lost maximum matches while chasing\".format(lost['winner'].value_counts().idxmax()))"
   ]
  },
  {
   "cell_type": "code",
   "execution_count": 33,
   "metadata": {},
   "outputs": [],
   "source": [
    "df['winner'].fillna('none',inplace=True)\n",
    "df['player_of_match'].fillna('none',inplace=True)\n",
    "df['umpire1'].fillna('none',inplace=True)\n",
    "df['umpire2'].fillna('none',inplace=True)\n",
    "df['umpire3'].fillna('none',inplace=True)"
   ]
  },
  {
   "cell_type": "markdown",
   "metadata": {},
   "source": [
    "# Which player has won maximum number of MoM awards while chasing?"
   ]
  },
  {
   "cell_type": "code",
   "execution_count": 100,
   "metadata": {},
   "outputs": [
    {
     "data": {
      "text/html": [
       "<div>\n",
       "<style scoped>\n",
       "    .dataframe tbody tr th:only-of-type {\n",
       "        vertical-align: middle;\n",
       "    }\n",
       "\n",
       "    .dataframe tbody tr th {\n",
       "        vertical-align: top;\n",
       "    }\n",
       "\n",
       "    .dataframe thead th {\n",
       "        text-align: right;\n",
       "    }\n",
       "</style>\n",
       "<table border=\"1\" class=\"dataframe\">\n",
       "  <thead>\n",
       "    <tr style=\"text-align: right;\">\n",
       "      <th></th>\n",
       "      <th>venue</th>\n",
       "      <th>best_decision</th>\n",
       "    </tr>\n",
       "  </thead>\n",
       "  <tbody>\n",
       "    <tr>\n",
       "      <th>0</th>\n",
       "      <td>Maharashtra Cricket Association Stadium</td>\n",
       "      <td>field</td>\n",
       "    </tr>\n",
       "    <tr>\n",
       "      <th>1</th>\n",
       "      <td>Saurashtra Cricket Association Stadium</td>\n",
       "      <td>field</td>\n",
       "    </tr>\n",
       "    <tr>\n",
       "      <th>2</th>\n",
       "      <td>Holkar Cricket Stadium</td>\n",
       "      <td>field</td>\n",
       "    </tr>\n",
       "    <tr>\n",
       "      <th>3</th>\n",
       "      <td>M Chinnaswamy Stadium</td>\n",
       "      <td>field</td>\n",
       "    </tr>\n",
       "    <tr>\n",
       "      <th>4</th>\n",
       "      <td>Rajiv Gandhi International Stadium, Uppal</td>\n",
       "      <td>field</td>\n",
       "    </tr>\n",
       "    <tr>\n",
       "      <th>5</th>\n",
       "      <td>Wankhede Stadium</td>\n",
       "      <td>field</td>\n",
       "    </tr>\n",
       "    <tr>\n",
       "      <th>6</th>\n",
       "      <td>Eden Gardens</td>\n",
       "      <td>field</td>\n",
       "    </tr>\n",
       "    <tr>\n",
       "      <th>7</th>\n",
       "      <td>Feroz Shah Kotla</td>\n",
       "      <td>field</td>\n",
       "    </tr>\n",
       "    <tr>\n",
       "      <th>8</th>\n",
       "      <td>Punjab Cricket Association IS Bindra Stadium, ...</td>\n",
       "      <td>field</td>\n",
       "    </tr>\n",
       "    <tr>\n",
       "      <th>9</th>\n",
       "      <td>Green Park</td>\n",
       "      <td>field</td>\n",
       "    </tr>\n",
       "    <tr>\n",
       "      <th>10</th>\n",
       "      <td>Punjab Cricket Association Stadium, Mohali</td>\n",
       "      <td>field</td>\n",
       "    </tr>\n",
       "    <tr>\n",
       "      <th>11</th>\n",
       "      <td>Dr DY Patil Sports Academy</td>\n",
       "      <td>field</td>\n",
       "    </tr>\n",
       "    <tr>\n",
       "      <th>12</th>\n",
       "      <td>Sawai Mansingh Stadium</td>\n",
       "      <td>field</td>\n",
       "    </tr>\n",
       "    <tr>\n",
       "      <th>13</th>\n",
       "      <td>MA Chidambaram Stadium, Chepauk</td>\n",
       "      <td>bat</td>\n",
       "    </tr>\n",
       "    <tr>\n",
       "      <th>14</th>\n",
       "      <td>Newlands</td>\n",
       "      <td>bat</td>\n",
       "    </tr>\n",
       "    <tr>\n",
       "      <th>15</th>\n",
       "      <td>St George's Park</td>\n",
       "      <td>bat</td>\n",
       "    </tr>\n",
       "    <tr>\n",
       "      <th>16</th>\n",
       "      <td>Kingsmead</td>\n",
       "      <td>bat</td>\n",
       "    </tr>\n",
       "    <tr>\n",
       "      <th>17</th>\n",
       "      <td>SuperSport Park</td>\n",
       "      <td>field</td>\n",
       "    </tr>\n",
       "    <tr>\n",
       "      <th>18</th>\n",
       "      <td>Buffalo Park</td>\n",
       "      <td>bat</td>\n",
       "    </tr>\n",
       "    <tr>\n",
       "      <th>19</th>\n",
       "      <td>De Beers Diamond Oval</td>\n",
       "      <td>bat</td>\n",
       "    </tr>\n",
       "    <tr>\n",
       "      <th>20</th>\n",
       "      <td>New Wanderers Stadium</td>\n",
       "      <td>field</td>\n",
       "    </tr>\n",
       "    <tr>\n",
       "      <th>21</th>\n",
       "      <td>OUTsurance Oval</td>\n",
       "      <td>bat</td>\n",
       "    </tr>\n",
       "    <tr>\n",
       "      <th>22</th>\n",
       "      <td>Brabourne Stadium</td>\n",
       "      <td>bat</td>\n",
       "    </tr>\n",
       "    <tr>\n",
       "      <th>23</th>\n",
       "      <td>Sardar Patel Stadium, Motera</td>\n",
       "      <td>bat</td>\n",
       "    </tr>\n",
       "    <tr>\n",
       "      <th>24</th>\n",
       "      <td>Barabati Stadium</td>\n",
       "      <td>field</td>\n",
       "    </tr>\n",
       "    <tr>\n",
       "      <th>25</th>\n",
       "      <td>Vidarbha Cricket Association Stadium, Jamtha</td>\n",
       "      <td>bat</td>\n",
       "    </tr>\n",
       "    <tr>\n",
       "      <th>26</th>\n",
       "      <td>Himachal Pradesh Cricket Association Stadium</td>\n",
       "      <td>field</td>\n",
       "    </tr>\n",
       "    <tr>\n",
       "      <th>27</th>\n",
       "      <td>Nehru Stadium</td>\n",
       "      <td>bat</td>\n",
       "    </tr>\n",
       "    <tr>\n",
       "      <th>28</th>\n",
       "      <td>Subrata Roy Sahara Stadium</td>\n",
       "      <td>bat</td>\n",
       "    </tr>\n",
       "    <tr>\n",
       "      <th>29</th>\n",
       "      <td>JSCA International Stadium Complex</td>\n",
       "      <td>field</td>\n",
       "    </tr>\n",
       "    <tr>\n",
       "      <th>30</th>\n",
       "      <td>Sheikh Zayed Stadium</td>\n",
       "      <td>bat</td>\n",
       "    </tr>\n",
       "    <tr>\n",
       "      <th>31</th>\n",
       "      <td>Sharjah Cricket Stadium</td>\n",
       "      <td>field</td>\n",
       "    </tr>\n",
       "    <tr>\n",
       "      <th>32</th>\n",
       "      <td>Dubai International Cricket Stadium</td>\n",
       "      <td>field</td>\n",
       "    </tr>\n",
       "    <tr>\n",
       "      <th>33</th>\n",
       "      <td>Dr. Y.S. Rajasekhara Reddy ACA-VDCA Cricket St...</td>\n",
       "      <td>bat</td>\n",
       "    </tr>\n",
       "    <tr>\n",
       "      <th>34</th>\n",
       "      <td>Shaheed Veer Narayan Singh International Stadium</td>\n",
       "      <td>field</td>\n",
       "    </tr>\n",
       "    <tr>\n",
       "      <th>35</th>\n",
       "      <td>M. A. Chidambaram Stadium</td>\n",
       "      <td>field</td>\n",
       "    </tr>\n",
       "    <tr>\n",
       "      <th>36</th>\n",
       "      <td>IS Bindra Stadium</td>\n",
       "      <td>field</td>\n",
       "    </tr>\n",
       "    <tr>\n",
       "      <th>37</th>\n",
       "      <td>Feroz Shah Kotla Ground</td>\n",
       "      <td>field</td>\n",
       "    </tr>\n",
       "    <tr>\n",
       "      <th>38</th>\n",
       "      <td>M. Chinnaswamy Stadium</td>\n",
       "      <td>field</td>\n",
       "    </tr>\n",
       "    <tr>\n",
       "      <th>39</th>\n",
       "      <td>Rajiv Gandhi Intl. Cricket Stadium</td>\n",
       "      <td>bat</td>\n",
       "    </tr>\n",
       "    <tr>\n",
       "      <th>40</th>\n",
       "      <td>ACA-VDCA Stadium</td>\n",
       "      <td>field</td>\n",
       "    </tr>\n",
       "  </tbody>\n",
       "</table>\n",
       "</div>"
      ],
      "text/plain": [
       "                                                venue best_decision\n",
       "0             Maharashtra Cricket Association Stadium         field\n",
       "1              Saurashtra Cricket Association Stadium         field\n",
       "2                              Holkar Cricket Stadium         field\n",
       "3                               M Chinnaswamy Stadium         field\n",
       "4           Rajiv Gandhi International Stadium, Uppal         field\n",
       "5                                    Wankhede Stadium         field\n",
       "6                                        Eden Gardens         field\n",
       "7                                    Feroz Shah Kotla         field\n",
       "8   Punjab Cricket Association IS Bindra Stadium, ...         field\n",
       "9                                          Green Park         field\n",
       "10         Punjab Cricket Association Stadium, Mohali         field\n",
       "11                         Dr DY Patil Sports Academy         field\n",
       "12                             Sawai Mansingh Stadium         field\n",
       "13                    MA Chidambaram Stadium, Chepauk           bat\n",
       "14                                           Newlands           bat\n",
       "15                                   St George's Park           bat\n",
       "16                                          Kingsmead           bat\n",
       "17                                    SuperSport Park         field\n",
       "18                                       Buffalo Park           bat\n",
       "19                              De Beers Diamond Oval           bat\n",
       "20                              New Wanderers Stadium         field\n",
       "21                                    OUTsurance Oval           bat\n",
       "22                                  Brabourne Stadium           bat\n",
       "23                       Sardar Patel Stadium, Motera           bat\n",
       "24                                   Barabati Stadium         field\n",
       "25       Vidarbha Cricket Association Stadium, Jamtha           bat\n",
       "26       Himachal Pradesh Cricket Association Stadium         field\n",
       "27                                      Nehru Stadium           bat\n",
       "28                         Subrata Roy Sahara Stadium           bat\n",
       "29                 JSCA International Stadium Complex         field\n",
       "30                               Sheikh Zayed Stadium           bat\n",
       "31                            Sharjah Cricket Stadium         field\n",
       "32                Dubai International Cricket Stadium         field\n",
       "33  Dr. Y.S. Rajasekhara Reddy ACA-VDCA Cricket St...           bat\n",
       "34   Shaheed Veer Narayan Singh International Stadium         field\n",
       "35                          M. A. Chidambaram Stadium         field\n",
       "36                                  IS Bindra Stadium         field\n",
       "37                            Feroz Shah Kotla Ground         field\n",
       "38                             M. Chinnaswamy Stadium         field\n",
       "39                 Rajiv Gandhi Intl. Cricket Stadium           bat\n",
       "40                                   ACA-VDCA Stadium         field"
      ]
     },
     "execution_count": 100,
     "metadata": {},
     "output_type": "execute_result"
    }
   ],
   "source": [
    "#2question\n",
    "ss=df[df[\"toss_winner\"]==df['winner']]\n",
    "dt=ss[['venue','toss_decision']]\n",
    "#for s in ss:\n",
    "li=list(dt['venue'].unique())\n",
    "sr=dt.groupby('venue')\n",
    "best_li=[]\n",
    "for l in li:\n",
    "    grp=sr.get_group(l)\n",
    "    field=np.count_nonzero(grp.toss_decision=='field')\n",
    "    bat=np.count_nonzero(grp.toss_decision=='bat')\n",
    "    if field>bat:\n",
    "        best_li.append(\"field\")\n",
    "    else:\n",
    "        best_li.append(\"bat\")\n",
    "final=list(zip(li,best_li)) \n",
    "dataframe=pd.DataFrame(final,columns=['venue',\"best_decision\"])\n",
    "dataframe"
   ]
  },
  {
   "cell_type": "markdown",
   "metadata": {},
   "source": [
    "# Which player has won maximum number of MoM awards while chasing?"
   ]
  },
  {
   "cell_type": "code",
   "execution_count": 108,
   "metadata": {},
   "outputs": [
    {
     "name": "stdout",
     "output_type": "stream",
     "text": [
      "YK Pathan has won maximum number of MoM awards while chasing\n"
     ]
    }
   ],
   "source": [
    "pom=df.query(\"win_by_wickets>0\")\n",
    "print(\"{} has won maximum number of MoM awards while chasing\".format(pom['player_of_match'].value_counts().idxmax()))"
   ]
  },
  {
   "cell_type": "markdown",
   "metadata": {},
   "source": [
    "# Which batsman has played maximum number of dot balls?"
   ]
  },
  {
   "cell_type": "code",
   "execution_count": 4,
   "metadata": {},
   "outputs": [],
   "source": [
    "delivery=pd.read_csv(\"deliveries.csv\")"
   ]
  },
  {
   "cell_type": "code",
   "execution_count": 113,
   "metadata": {},
   "outputs": [],
   "source": [
    "bat=delivery.query(\"total_runs==0\")"
   ]
  },
  {
   "cell_type": "code",
   "execution_count": 118,
   "metadata": {},
   "outputs": [
    {
     "name": "stdout",
     "output_type": "stream",
     "text": [
      "V Kohli batsman has played maximum number of dot balls\n"
     ]
    }
   ],
   "source": [
    "print(\"{} batsman has played maximum number of dot balls\".format(bat['batsman'].value_counts().idxmax()))"
   ]
  },
  {
   "cell_type": "markdown",
   "metadata": {},
   "source": [
    "# Which batsmen came to crease but never got a chance to face a ball?"
   ]
  },
  {
   "cell_type": "code",
   "execution_count": 165,
   "metadata": {},
   "outputs": [
    {
     "data": {
      "text/html": [
       "<div>\n",
       "<style scoped>\n",
       "    .dataframe tbody tr th:only-of-type {\n",
       "        vertical-align: middle;\n",
       "    }\n",
       "\n",
       "    .dataframe tbody tr th {\n",
       "        vertical-align: top;\n",
       "    }\n",
       "\n",
       "    .dataframe thead th {\n",
       "        text-align: right;\n",
       "    }\n",
       "</style>\n",
       "<table border=\"1\" class=\"dataframe\">\n",
       "  <thead>\n",
       "    <tr style=\"text-align: right;\">\n",
       "      <th></th>\n",
       "      <th>match_id</th>\n",
       "      <th>batsman</th>\n",
       "      <th>non_striker</th>\n",
       "      <th>player_dismissed</th>\n",
       "      <th>dismissal_kind</th>\n",
       "    </tr>\n",
       "  </thead>\n",
       "  <tbody>\n",
       "    <tr>\n",
       "      <th>247</th>\n",
       "      <td>1</td>\n",
       "      <td>A Choudhary</td>\n",
       "      <td>YS Chahal</td>\n",
       "      <td>YS Chahal</td>\n",
       "      <td>run out</td>\n",
       "    </tr>\n",
       "    <tr>\n",
       "      <th>371</th>\n",
       "      <td>2</td>\n",
       "      <td>HH Pandya</td>\n",
       "      <td>TG Southee</td>\n",
       "      <td>TG Southee</td>\n",
       "      <td>run out</td>\n",
       "    </tr>\n",
       "    <tr>\n",
       "      <th>2700</th>\n",
       "      <td>12</td>\n",
       "      <td>P Negi</td>\n",
       "      <td>KM Jadhav</td>\n",
       "      <td>KM Jadhav</td>\n",
       "      <td>run out</td>\n",
       "    </tr>\n",
       "    <tr>\n",
       "      <th>4989</th>\n",
       "      <td>21</td>\n",
       "      <td>SV Samson</td>\n",
       "      <td>KK Nair</td>\n",
       "      <td>KK Nair</td>\n",
       "      <td>run out</td>\n",
       "    </tr>\n",
       "    <tr>\n",
       "      <th>5399</th>\n",
       "      <td>23</td>\n",
       "      <td>YK Pathan</td>\n",
       "      <td>SA Yadav</td>\n",
       "      <td>SA Yadav</td>\n",
       "      <td>run out</td>\n",
       "    </tr>\n",
       "    <tr>\n",
       "      <th>5546</th>\n",
       "      <td>24</td>\n",
       "      <td>N Rana</td>\n",
       "      <td>JC Buttler</td>\n",
       "      <td>JC Buttler</td>\n",
       "      <td>run out</td>\n",
       "    </tr>\n",
       "    <tr>\n",
       "      <th>5632</th>\n",
       "      <td>24</td>\n",
       "      <td>HH Pandya</td>\n",
       "      <td>Harbhajan Singh</td>\n",
       "      <td>Harbhajan Singh</td>\n",
       "      <td>run out</td>\n",
       "    </tr>\n",
       "    <tr>\n",
       "      <th>5966</th>\n",
       "      <td>25</td>\n",
       "      <td>MS Dhoni</td>\n",
       "      <td>RA Tripathi</td>\n",
       "      <td>RA Tripathi</td>\n",
       "      <td>run out</td>\n",
       "    </tr>\n",
       "    <tr>\n",
       "      <th>6680</th>\n",
       "      <td>28</td>\n",
       "      <td>Harbhajan Singh</td>\n",
       "      <td>MJ McClenaghan</td>\n",
       "      <td>MJ McClenaghan</td>\n",
       "      <td>run out</td>\n",
       "    </tr>\n",
       "    <tr>\n",
       "      <th>6823</th>\n",
       "      <td>29</td>\n",
       "      <td>G Gambhir</td>\n",
       "      <td>SP Narine</td>\n",
       "      <td>SP Narine</td>\n",
       "      <td>run out</td>\n",
       "    </tr>\n",
       "    <tr>\n",
       "      <th>6980</th>\n",
       "      <td>30</td>\n",
       "      <td>Mandeep Singh</td>\n",
       "      <td>AB de Villiers</td>\n",
       "      <td>AB de Villiers</td>\n",
       "      <td>run out</td>\n",
       "    </tr>\n",
       "    <tr>\n",
       "      <th>7328</th>\n",
       "      <td>31</td>\n",
       "      <td>G Gambhir</td>\n",
       "      <td>RV Uthappa</td>\n",
       "      <td>RV Uthappa</td>\n",
       "      <td>run out</td>\n",
       "    </tr>\n",
       "    <tr>\n",
       "      <th>7963</th>\n",
       "      <td>34</td>\n",
       "      <td>JP Faulkner</td>\n",
       "      <td>AJ Tye</td>\n",
       "      <td>AJ Tye</td>\n",
       "      <td>run out</td>\n",
       "    </tr>\n",
       "    <tr>\n",
       "      <th>7994</th>\n",
       "      <td>34</td>\n",
       "      <td>PA Patel</td>\n",
       "      <td>JC Buttler</td>\n",
       "      <td>JC Buttler</td>\n",
       "      <td>run out</td>\n",
       "    </tr>\n",
       "    <tr>\n",
       "      <th>8091</th>\n",
       "      <td>34</td>\n",
       "      <td>SL Malinga</td>\n",
       "      <td>KH Pandya</td>\n",
       "      <td>KH Pandya</td>\n",
       "      <td>run out</td>\n",
       "    </tr>\n",
       "    <tr>\n",
       "      <th>8386</th>\n",
       "      <td>36</td>\n",
       "      <td>Yuvraj Singh</td>\n",
       "      <td>KS Williamson</td>\n",
       "      <td>KS Williamson</td>\n",
       "      <td>run out</td>\n",
       "    </tr>\n",
       "    <tr>\n",
       "      <th>8630</th>\n",
       "      <td>37</td>\n",
       "      <td>AF Milne</td>\n",
       "      <td>S Aravind</td>\n",
       "      <td>S Aravind</td>\n",
       "      <td>run out</td>\n",
       "    </tr>\n",
       "    <tr>\n",
       "      <th>8873</th>\n",
       "      <td>38</td>\n",
       "      <td>Basil Thampi</td>\n",
       "      <td>KD Karthik</td>\n",
       "      <td>KD Karthik</td>\n",
       "      <td>run out</td>\n",
       "    </tr>\n",
       "    <tr>\n",
       "      <th>8909</th>\n",
       "      <td>38</td>\n",
       "      <td>BA Stokes</td>\n",
       "      <td>RA Tripathi</td>\n",
       "      <td>RA Tripathi</td>\n",
       "      <td>run out</td>\n",
       "    </tr>\n",
       "    <tr>\n",
       "      <th>9343</th>\n",
       "      <td>40</td>\n",
       "      <td>SA Yadav</td>\n",
       "      <td>CR Woakes</td>\n",
       "      <td>CR Woakes</td>\n",
       "      <td>run out</td>\n",
       "    </tr>\n",
       "    <tr>\n",
       "      <th>9483</th>\n",
       "      <td>41</td>\n",
       "      <td>SK Raina</td>\n",
       "      <td>DR Smith</td>\n",
       "      <td>DR Smith</td>\n",
       "      <td>run out</td>\n",
       "    </tr>\n",
       "    <tr>\n",
       "      <th>9557</th>\n",
       "      <td>41</td>\n",
       "      <td>KD Karthik</td>\n",
       "      <td>SK Raina</td>\n",
       "      <td>SK Raina</td>\n",
       "      <td>run out</td>\n",
       "    </tr>\n",
       "    <tr>\n",
       "      <th>11536</th>\n",
       "      <td>49</td>\n",
       "      <td>SS Iyer</td>\n",
       "      <td>MN Samuels</td>\n",
       "      <td>MN Samuels</td>\n",
       "      <td>run out</td>\n",
       "    </tr>\n",
       "    <tr>\n",
       "      <th>11856</th>\n",
       "      <td>51</td>\n",
       "      <td>KK Nair</td>\n",
       "      <td>SV Samson</td>\n",
       "      <td>SV Samson</td>\n",
       "      <td>run out</td>\n",
       "    </tr>\n",
       "    <tr>\n",
       "      <th>12427</th>\n",
       "      <td>53</td>\n",
       "      <td>AT Rayudu</td>\n",
       "      <td>SS Tiwary</td>\n",
       "      <td>SS Tiwary</td>\n",
       "      <td>run out</td>\n",
       "    </tr>\n",
       "    <tr>\n",
       "      <th>12835</th>\n",
       "      <td>55</td>\n",
       "      <td>V Kohli</td>\n",
       "      <td>TM Head</td>\n",
       "      <td>TM Head</td>\n",
       "      <td>run out</td>\n",
       "    </tr>\n",
       "    <tr>\n",
       "      <th>13122</th>\n",
       "      <td>56</td>\n",
       "      <td>MS Dhoni</td>\n",
       "      <td>MK Tiwary</td>\n",
       "      <td>MK Tiwary</td>\n",
       "      <td>run out</td>\n",
       "    </tr>\n",
       "    <tr>\n",
       "      <th>13151</th>\n",
       "      <td>56</td>\n",
       "      <td>PA Patel</td>\n",
       "      <td>LMP Simmons</td>\n",
       "      <td>LMP Simmons</td>\n",
       "      <td>run out</td>\n",
       "    </tr>\n",
       "    <tr>\n",
       "      <th>13861</th>\n",
       "      <td>59</td>\n",
       "      <td>DT Christian</td>\n",
       "      <td>Washington Sundar</td>\n",
       "      <td>Washington Sundar</td>\n",
       "      <td>run out</td>\n",
       "    </tr>\n",
       "    <tr>\n",
       "      <th>14917</th>\n",
       "      <td>64</td>\n",
       "      <td>RP Singh</td>\n",
       "      <td>PP Ojha</td>\n",
       "      <td>PP Ojha</td>\n",
       "      <td>run out</td>\n",
       "    </tr>\n",
       "    <tr>\n",
       "      <th>...</th>\n",
       "      <td>...</td>\n",
       "      <td>...</td>\n",
       "      <td>...</td>\n",
       "      <td>...</td>\n",
       "      <td>...</td>\n",
       "    </tr>\n",
       "    <tr>\n",
       "      <th>160118</th>\n",
       "      <td>7934</td>\n",
       "      <td>RV Uthappa</td>\n",
       "      <td>CA Lynn</td>\n",
       "      <td>CA Lynn</td>\n",
       "      <td>run out</td>\n",
       "    </tr>\n",
       "    <tr>\n",
       "      <th>160149</th>\n",
       "      <td>7934</td>\n",
       "      <td>N Rana</td>\n",
       "      <td>KD Karthik</td>\n",
       "      <td>KD Karthik</td>\n",
       "      <td>run out</td>\n",
       "    </tr>\n",
       "    <tr>\n",
       "      <th>160249</th>\n",
       "      <td>7935</td>\n",
       "      <td>RR Pant</td>\n",
       "      <td>SS Iyer</td>\n",
       "      <td>SS Iyer</td>\n",
       "      <td>run out</td>\n",
       "    </tr>\n",
       "    <tr>\n",
       "      <th>160287</th>\n",
       "      <td>7935</td>\n",
       "      <td>RR Pant</td>\n",
       "      <td>HV Patel</td>\n",
       "      <td>HV Patel</td>\n",
       "      <td>run out</td>\n",
       "    </tr>\n",
       "    <tr>\n",
       "      <th>161397</th>\n",
       "      <td>7939</td>\n",
       "      <td>AT Rayudu</td>\n",
       "      <td>SR Watson</td>\n",
       "      <td>SR Watson</td>\n",
       "      <td>run out</td>\n",
       "    </tr>\n",
       "    <tr>\n",
       "      <th>161764</th>\n",
       "      <td>7941</td>\n",
       "      <td>AR Patel</td>\n",
       "      <td>AS Rajpoot</td>\n",
       "      <td>AS Rajpoot</td>\n",
       "      <td>run out</td>\n",
       "    </tr>\n",
       "    <tr>\n",
       "      <th>163294</th>\n",
       "      <td>7948</td>\n",
       "      <td>GJ Maxwell</td>\n",
       "      <td>P Shaw</td>\n",
       "      <td>P Shaw</td>\n",
       "      <td>run out</td>\n",
       "    </tr>\n",
       "    <tr>\n",
       "      <th>163898</th>\n",
       "      <td>7950</td>\n",
       "      <td>CR Brathwaite</td>\n",
       "      <td>B Kumar</td>\n",
       "      <td>B Kumar</td>\n",
       "      <td>run out</td>\n",
       "    </tr>\n",
       "    <tr>\n",
       "      <th>164007</th>\n",
       "      <td>7950</td>\n",
       "      <td>F du Plessis</td>\n",
       "      <td>Harbhajan Singh</td>\n",
       "      <td>Harbhajan Singh</td>\n",
       "      <td>run out</td>\n",
       "    </tr>\n",
       "    <tr>\n",
       "      <th>164356</th>\n",
       "      <td>7952</td>\n",
       "      <td>DJ Hooda</td>\n",
       "      <td>Shakib Al Hasan</td>\n",
       "      <td>Shakib Al Hasan</td>\n",
       "      <td>run out</td>\n",
       "    </tr>\n",
       "    <tr>\n",
       "      <th>165658</th>\n",
       "      <td>11140</td>\n",
       "      <td>SV Samson</td>\n",
       "      <td>JC Buttler</td>\n",
       "      <td>JC Buttler</td>\n",
       "      <td>run out</td>\n",
       "    </tr>\n",
       "    <tr>\n",
       "      <th>166345</th>\n",
       "      <td>11143</td>\n",
       "      <td>PA Patel</td>\n",
       "      <td>M Ali</td>\n",
       "      <td>M Ali</td>\n",
       "      <td>run out</td>\n",
       "    </tr>\n",
       "    <tr>\n",
       "      <th>167299</th>\n",
       "      <td>11147</td>\n",
       "      <td>DA Warner</td>\n",
       "      <td>V Shankar</td>\n",
       "      <td>V Shankar</td>\n",
       "      <td>run out</td>\n",
       "    </tr>\n",
       "    <tr>\n",
       "      <th>167352</th>\n",
       "      <td>11147</td>\n",
       "      <td>S Dube</td>\n",
       "      <td>M Ali</td>\n",
       "      <td>M Ali</td>\n",
       "      <td>run out</td>\n",
       "    </tr>\n",
       "    <tr>\n",
       "      <th>167421</th>\n",
       "      <td>11147</td>\n",
       "      <td>C de Grandhomme</td>\n",
       "      <td>UT Yadav</td>\n",
       "      <td>UT Yadav</td>\n",
       "      <td>run out</td>\n",
       "    </tr>\n",
       "    <tr>\n",
       "      <th>167731</th>\n",
       "      <td>11149</td>\n",
       "      <td>SN Khan</td>\n",
       "      <td>MA Agarwal</td>\n",
       "      <td>MA Agarwal</td>\n",
       "      <td>run out</td>\n",
       "    </tr>\n",
       "    <tr>\n",
       "      <th>169936</th>\n",
       "      <td>11313</td>\n",
       "      <td>DA Warner</td>\n",
       "      <td>Mohammad Nabi</td>\n",
       "      <td>Mohammad Nabi</td>\n",
       "      <td>run out</td>\n",
       "    </tr>\n",
       "    <tr>\n",
       "      <th>170530</th>\n",
       "      <td>11315</td>\n",
       "      <td>KA Pollard</td>\n",
       "      <td>Ishan Kishan</td>\n",
       "      <td>Ishan Kishan</td>\n",
       "      <td>run out</td>\n",
       "    </tr>\n",
       "    <tr>\n",
       "      <th>171678</th>\n",
       "      <td>11320</td>\n",
       "      <td>PP Chawla</td>\n",
       "      <td>Kuldeep Yadav</td>\n",
       "      <td>Kuldeep Yadav</td>\n",
       "      <td>run out</td>\n",
       "    </tr>\n",
       "    <tr>\n",
       "      <th>172817</th>\n",
       "      <td>11325</td>\n",
       "      <td>AS Yadav</td>\n",
       "      <td>Q de Kock</td>\n",
       "      <td>Q de Kock</td>\n",
       "      <td>run out</td>\n",
       "    </tr>\n",
       "    <tr>\n",
       "      <th>172986</th>\n",
       "      <td>11325</td>\n",
       "      <td>AR Patel</td>\n",
       "      <td>K Paul</td>\n",
       "      <td>K Paul</td>\n",
       "      <td>run out</td>\n",
       "    </tr>\n",
       "    <tr>\n",
       "      <th>173488</th>\n",
       "      <td>11327</td>\n",
       "      <td>SPD Smith</td>\n",
       "      <td>R Parag</td>\n",
       "      <td>R Parag</td>\n",
       "      <td>run out</td>\n",
       "    </tr>\n",
       "    <tr>\n",
       "      <th>173638</th>\n",
       "      <td>11328</td>\n",
       "      <td>S Dhawan</td>\n",
       "      <td>P Shaw</td>\n",
       "      <td>P Shaw</td>\n",
       "      <td>run out</td>\n",
       "    </tr>\n",
       "    <tr>\n",
       "      <th>174187</th>\n",
       "      <td>11330</td>\n",
       "      <td>MS Dhoni</td>\n",
       "      <td>RA Jadeja</td>\n",
       "      <td>RA Jadeja</td>\n",
       "      <td>run out</td>\n",
       "    </tr>\n",
       "    <tr>\n",
       "      <th>174208</th>\n",
       "      <td>11330</td>\n",
       "      <td>MS Dhoni</td>\n",
       "      <td>SN Thakur</td>\n",
       "      <td>SN Thakur</td>\n",
       "      <td>run out</td>\n",
       "    </tr>\n",
       "    <tr>\n",
       "      <th>174215</th>\n",
       "      <td>11331</td>\n",
       "      <td>AM Rahane</td>\n",
       "      <td>SV Samson</td>\n",
       "      <td>SV Samson</td>\n",
       "      <td>run out</td>\n",
       "    </tr>\n",
       "    <tr>\n",
       "      <th>175012</th>\n",
       "      <td>11334</td>\n",
       "      <td>KD Karthik</td>\n",
       "      <td>SP Narine</td>\n",
       "      <td>SP Narine</td>\n",
       "      <td>run out</td>\n",
       "    </tr>\n",
       "    <tr>\n",
       "      <th>177016</th>\n",
       "      <td>11343</td>\n",
       "      <td>Mandeep Singh</td>\n",
       "      <td>MA Agarwal</td>\n",
       "      <td>MA Agarwal</td>\n",
       "      <td>run out</td>\n",
       "    </tr>\n",
       "    <tr>\n",
       "      <th>178951</th>\n",
       "      <td>11415</td>\n",
       "      <td>KA Pollard</td>\n",
       "      <td>MJ McClenaghan</td>\n",
       "      <td>MJ McClenaghan</td>\n",
       "      <td>run out</td>\n",
       "    </tr>\n",
       "    <tr>\n",
       "      <th>179033</th>\n",
       "      <td>11415</td>\n",
       "      <td>SR Watson</td>\n",
       "      <td>MS Dhoni</td>\n",
       "      <td>MS Dhoni</td>\n",
       "      <td>run out</td>\n",
       "    </tr>\n",
       "  </tbody>\n",
       "</table>\n",
       "<p>401 rows × 5 columns</p>\n",
       "</div>"
      ],
      "text/plain": [
       "        match_id          batsman        non_striker   player_dismissed  \\\n",
       "247            1      A Choudhary          YS Chahal          YS Chahal   \n",
       "371            2        HH Pandya         TG Southee         TG Southee   \n",
       "2700          12           P Negi          KM Jadhav          KM Jadhav   \n",
       "4989          21        SV Samson            KK Nair            KK Nair   \n",
       "5399          23        YK Pathan           SA Yadav           SA Yadav   \n",
       "5546          24           N Rana         JC Buttler         JC Buttler   \n",
       "5632          24        HH Pandya    Harbhajan Singh    Harbhajan Singh   \n",
       "5966          25         MS Dhoni        RA Tripathi        RA Tripathi   \n",
       "6680          28  Harbhajan Singh     MJ McClenaghan     MJ McClenaghan   \n",
       "6823          29        G Gambhir          SP Narine          SP Narine   \n",
       "6980          30    Mandeep Singh     AB de Villiers     AB de Villiers   \n",
       "7328          31        G Gambhir         RV Uthappa         RV Uthappa   \n",
       "7963          34      JP Faulkner             AJ Tye             AJ Tye   \n",
       "7994          34         PA Patel         JC Buttler         JC Buttler   \n",
       "8091          34       SL Malinga          KH Pandya          KH Pandya   \n",
       "8386          36     Yuvraj Singh      KS Williamson      KS Williamson   \n",
       "8630          37         AF Milne          S Aravind          S Aravind   \n",
       "8873          38     Basil Thampi         KD Karthik         KD Karthik   \n",
       "8909          38        BA Stokes        RA Tripathi        RA Tripathi   \n",
       "9343          40         SA Yadav          CR Woakes          CR Woakes   \n",
       "9483          41         SK Raina           DR Smith           DR Smith   \n",
       "9557          41       KD Karthik           SK Raina           SK Raina   \n",
       "11536         49          SS Iyer         MN Samuels         MN Samuels   \n",
       "11856         51          KK Nair          SV Samson          SV Samson   \n",
       "12427         53        AT Rayudu          SS Tiwary          SS Tiwary   \n",
       "12835         55          V Kohli            TM Head            TM Head   \n",
       "13122         56         MS Dhoni          MK Tiwary          MK Tiwary   \n",
       "13151         56         PA Patel        LMP Simmons        LMP Simmons   \n",
       "13861         59     DT Christian  Washington Sundar  Washington Sundar   \n",
       "14917         64         RP Singh            PP Ojha            PP Ojha   \n",
       "...          ...              ...                ...                ...   \n",
       "160118      7934       RV Uthappa            CA Lynn            CA Lynn   \n",
       "160149      7934           N Rana         KD Karthik         KD Karthik   \n",
       "160249      7935          RR Pant            SS Iyer            SS Iyer   \n",
       "160287      7935          RR Pant           HV Patel           HV Patel   \n",
       "161397      7939        AT Rayudu          SR Watson          SR Watson   \n",
       "161764      7941         AR Patel         AS Rajpoot         AS Rajpoot   \n",
       "163294      7948       GJ Maxwell             P Shaw             P Shaw   \n",
       "163898      7950    CR Brathwaite            B Kumar            B Kumar   \n",
       "164007      7950     F du Plessis    Harbhajan Singh    Harbhajan Singh   \n",
       "164356      7952         DJ Hooda    Shakib Al Hasan    Shakib Al Hasan   \n",
       "165658     11140        SV Samson         JC Buttler         JC Buttler   \n",
       "166345     11143         PA Patel              M Ali              M Ali   \n",
       "167299     11147        DA Warner          V Shankar          V Shankar   \n",
       "167352     11147           S Dube              M Ali              M Ali   \n",
       "167421     11147  C de Grandhomme           UT Yadav           UT Yadav   \n",
       "167731     11149          SN Khan         MA Agarwal         MA Agarwal   \n",
       "169936     11313        DA Warner      Mohammad Nabi      Mohammad Nabi   \n",
       "170530     11315       KA Pollard       Ishan Kishan       Ishan Kishan   \n",
       "171678     11320        PP Chawla      Kuldeep Yadav      Kuldeep Yadav   \n",
       "172817     11325         AS Yadav          Q de Kock          Q de Kock   \n",
       "172986     11325         AR Patel             K Paul             K Paul   \n",
       "173488     11327        SPD Smith            R Parag            R Parag   \n",
       "173638     11328         S Dhawan             P Shaw             P Shaw   \n",
       "174187     11330         MS Dhoni          RA Jadeja          RA Jadeja   \n",
       "174208     11330         MS Dhoni          SN Thakur          SN Thakur   \n",
       "174215     11331        AM Rahane          SV Samson          SV Samson   \n",
       "175012     11334       KD Karthik          SP Narine          SP Narine   \n",
       "177016     11343    Mandeep Singh         MA Agarwal         MA Agarwal   \n",
       "178951     11415       KA Pollard     MJ McClenaghan     MJ McClenaghan   \n",
       "179033     11415        SR Watson           MS Dhoni           MS Dhoni   \n",
       "\n",
       "       dismissal_kind  \n",
       "247           run out  \n",
       "371           run out  \n",
       "2700          run out  \n",
       "4989          run out  \n",
       "5399          run out  \n",
       "5546          run out  \n",
       "5632          run out  \n",
       "5966          run out  \n",
       "6680          run out  \n",
       "6823          run out  \n",
       "6980          run out  \n",
       "7328          run out  \n",
       "7963          run out  \n",
       "7994          run out  \n",
       "8091          run out  \n",
       "8386          run out  \n",
       "8630          run out  \n",
       "8873          run out  \n",
       "8909          run out  \n",
       "9343          run out  \n",
       "9483          run out  \n",
       "9557          run out  \n",
       "11536         run out  \n",
       "11856         run out  \n",
       "12427         run out  \n",
       "12835         run out  \n",
       "13122         run out  \n",
       "13151         run out  \n",
       "13861         run out  \n",
       "14917         run out  \n",
       "...               ...  \n",
       "160118        run out  \n",
       "160149        run out  \n",
       "160249        run out  \n",
       "160287        run out  \n",
       "161397        run out  \n",
       "161764        run out  \n",
       "163294        run out  \n",
       "163898        run out  \n",
       "164007        run out  \n",
       "164356        run out  \n",
       "165658        run out  \n",
       "166345        run out  \n",
       "167299        run out  \n",
       "167352        run out  \n",
       "167421        run out  \n",
       "167731        run out  \n",
       "169936        run out  \n",
       "170530        run out  \n",
       "171678        run out  \n",
       "172817        run out  \n",
       "172986        run out  \n",
       "173488        run out  \n",
       "173638        run out  \n",
       "174187        run out  \n",
       "174208        run out  \n",
       "174215        run out  \n",
       "175012        run out  \n",
       "177016        run out  \n",
       "178951        run out  \n",
       "179033        run out  \n",
       "\n",
       "[401 rows x 5 columns]"
      ]
     },
     "execution_count": 165,
     "metadata": {},
     "output_type": "execute_result"
    }
   ],
   "source": [
    "q=delivery[['match_id','batsman','non_striker','player_dismissed','dismissal_kind']]\n",
    "q=q.query(\"dismissal_kind=='run out'\")\n",
    "q=q.query(\"player_dismissed!=batsman\")\n",
    "q"
   ]
  },
  {
   "cell_type": "code",
   "execution_count": 171,
   "metadata": {},
   "outputs": [
    {
     "name": "stdout",
     "output_type": "stream",
     "text": [
      "yes\n"
     ]
    }
   ],
   "source": [
    "if q.iloc[300]['batsman']!=q.iloc[200]['non_striker']:\n",
    "    print(\"yes\")"
   ]
  },
  {
   "cell_type": "code",
   "execution_count": 187,
   "metadata": {
    "scrolled": true
   },
   "outputs": [
    {
     "data": {
      "text/plain": [
       "['YS Chahal',\n",
       " 'TG Southee',\n",
       " 'RA Tripathi',\n",
       " 'MJ McClenaghan',\n",
       " 'SP Narine',\n",
       " 'AJ Tye',\n",
       " 'KH Pandya',\n",
       " 'S Aravind',\n",
       " 'RA Tripathi',\n",
       " 'CR Woakes',\n",
       " 'TM Head',\n",
       " 'ML Hayden',\n",
       " 'L Ronchi',\n",
       " 'D Salunkhe',\n",
       " 'VRV Singh',\n",
       " 'L Ronchi',\n",
       " 'P Kumar',\n",
       " 'RT Ponting',\n",
       " 'RR Sarwan',\n",
       " 'SB Bangar',\n",
       " 'WPUJC Vaas',\n",
       " 'W Jaffer',\n",
       " 'DT Patil',\n",
       " 'A Kumble',\n",
       " 'M Kaif',\n",
       " 'A Chopra',\n",
       " 'AB Agarkar',\n",
       " 'A Nel',\n",
       " 'Kamran Akmal',\n",
       " 'M Kaif',\n",
       " 'ML Hayden',\n",
       " 'Y Venugopal Rao',\n",
       " 'L Balaji',\n",
       " 'WA Mota',\n",
       " 'LA Carseldine',\n",
       " 'S Sohal',\n",
       " 'S Tyagi',\n",
       " 'TL Suman',\n",
       " 'T Henderson',\n",
       " 'SS Shaikh',\n",
       " 'R Sathish',\n",
       " 'VVS Laxman',\n",
       " 'MM Patel',\n",
       " 'TL Suman',\n",
       " 'ML Hayden',\n",
       " 'MJ Lumb',\n",
       " 'PD Collingwood',\n",
       " 'VVS Laxman',\n",
       " 'Harmeet Singh',\n",
       " 'MD Mishra',\n",
       " 'MJ Lumb',\n",
       " 'R Ashwin',\n",
       " 'S Sreesanth',\n",
       " 'FY Fazal',\n",
       " 'EJG Morgan',\n",
       " 'S Sohal',\n",
       " 'VVS Laxman',\n",
       " 'R Sharma',\n",
       " 'JE Taylor',\n",
       " 'AB Agarkar',\n",
       " 'AA Chavan',\n",
       " 'BA Bhatt',\n",
       " 'R Bhatia',\n",
       " 'DB Das',\n",
       " 'R Sharma',\n",
       " 'DL Vettori',\n",
       " 'AB Dinda',\n",
       " 'Bipul Sharma',\n",
       " 'DJ Harris',\n",
       " 'VR Aaron',\n",
       " 'P Kumar',\n",
       " 'DB Das',\n",
       " 'Y Venugopal Rao',\n",
       " 'R Sharma',\n",
       " 'DH Yagnik',\n",
       " 'P Kumar',\n",
       " 'EJG Morgan',\n",
       " 'MS Gony',\n",
       " 'LJ Wright',\n",
       " 'Harmeet Singh',\n",
       " 'R Ashwin',\n",
       " 'PV Tambe',\n",
       " 'CA Pujara',\n",
       " 'CM Gautam',\n",
       " 'MA Starc',\n",
       " 'SP Narine',\n",
       " 'SA Abbott',\n",
       " 'Iqbal Abdulla',\n",
       " 'NM Coulter-Nile',\n",
       " 'HV Patel',\n",
       " 'TG Southee',\n",
       " 'MM Sharma',\n",
       " 'GB Hogg',\n",
       " 'P Kumar',\n",
       " 'DJ Bravo',\n",
       " 'C Munro',\n",
       " 'P Sahu',\n",
       " 'KH Pandya',\n",
       " 'Bipul Sharma',\n",
       " 'SP Narine',\n",
       " 'Ishan Kishan',\n",
       " 'J Yadav',\n",
       " 'UT Khawaja',\n",
       " 'J Yadav',\n",
       " 'C Munro',\n",
       " 'CJ Jordan',\n",
       " 'C Munro',\n",
       " 'KH Pandya',\n",
       " 'S Gill',\n",
       " 'S Kaul',\n",
       " 'CA Lynn',\n",
       " 'HV Patel',\n",
       " 'AS Rajpoot',\n",
       " 'M Ali',\n",
       " 'V Shankar',\n",
       " 'M Ali',\n",
       " 'Mohammad Nabi',\n",
       " 'Ishan Kishan',\n",
       " 'Kuldeep Yadav',\n",
       " 'K Paul',\n",
       " 'R Parag',\n",
       " 'SN Thakur',\n",
       " 'SP Narine',\n",
       " 'MJ McClenaghan']"
      ]
     },
     "execution_count": 187,
     "metadata": {},
     "output_type": "execute_result"
    }
   ],
   "source": [
    "m=len(q)\n",
    "i=0\n",
    "lis=[]\n",
    "while i<m:\n",
    "    j=0\n",
    "    while j<m:\n",
    "        if q.iloc[j]['batsman']==q.iloc[i]['non_striker']:\n",
    "            break\n",
    "        j+=1\n",
    "    if j==m:\n",
    "        lis.append(q.iloc[i]['non_striker'])\n",
    "    i+=1"
   ]
  },
  {
   "cell_type": "code",
   "execution_count": 189,
   "metadata": {},
   "outputs": [
    {
     "data": {
      "text/plain": [
       "{'A Chopra',\n",
       " 'A Kumble',\n",
       " 'A Nel',\n",
       " 'AA Chavan',\n",
       " 'AB Agarkar',\n",
       " 'AB Dinda',\n",
       " 'AJ Tye',\n",
       " 'AS Rajpoot',\n",
       " 'BA Bhatt',\n",
       " 'Bipul Sharma',\n",
       " 'C Munro',\n",
       " 'CA Lynn',\n",
       " 'CA Pujara',\n",
       " 'CJ Jordan',\n",
       " 'CM Gautam',\n",
       " 'CR Woakes',\n",
       " 'D Salunkhe',\n",
       " 'DB Das',\n",
       " 'DH Yagnik',\n",
       " 'DJ Bravo',\n",
       " 'DJ Harris',\n",
       " 'DL Vettori',\n",
       " 'DT Patil',\n",
       " 'EJG Morgan',\n",
       " 'FY Fazal',\n",
       " 'GB Hogg',\n",
       " 'HV Patel',\n",
       " 'Harmeet Singh',\n",
       " 'Iqbal Abdulla',\n",
       " 'Ishan Kishan',\n",
       " 'J Yadav',\n",
       " 'JE Taylor',\n",
       " 'K Paul',\n",
       " 'KH Pandya',\n",
       " 'Kamran Akmal',\n",
       " 'Kuldeep Yadav',\n",
       " 'L Balaji',\n",
       " 'L Ronchi',\n",
       " 'LA Carseldine',\n",
       " 'LJ Wright',\n",
       " 'M Ali',\n",
       " 'M Kaif',\n",
       " 'MA Starc',\n",
       " 'MD Mishra',\n",
       " 'MJ Lumb',\n",
       " 'MJ McClenaghan',\n",
       " 'ML Hayden',\n",
       " 'MM Patel',\n",
       " 'MM Sharma',\n",
       " 'MS Gony',\n",
       " 'Mohammad Nabi',\n",
       " 'NM Coulter-Nile',\n",
       " 'P Kumar',\n",
       " 'P Sahu',\n",
       " 'PD Collingwood',\n",
       " 'PV Tambe',\n",
       " 'R Ashwin',\n",
       " 'R Bhatia',\n",
       " 'R Parag',\n",
       " 'R Sathish',\n",
       " 'R Sharma',\n",
       " 'RA Tripathi',\n",
       " 'RR Sarwan',\n",
       " 'RT Ponting',\n",
       " 'S Aravind',\n",
       " 'S Gill',\n",
       " 'S Kaul',\n",
       " 'S Sohal',\n",
       " 'S Sreesanth',\n",
       " 'S Tyagi',\n",
       " 'SA Abbott',\n",
       " 'SB Bangar',\n",
       " 'SN Thakur',\n",
       " 'SP Narine',\n",
       " 'SS Shaikh',\n",
       " 'T Henderson',\n",
       " 'TG Southee',\n",
       " 'TL Suman',\n",
       " 'TM Head',\n",
       " 'UT Khawaja',\n",
       " 'V Shankar',\n",
       " 'VR Aaron',\n",
       " 'VRV Singh',\n",
       " 'VVS Laxman',\n",
       " 'W Jaffer',\n",
       " 'WA Mota',\n",
       " 'WPUJC Vaas',\n",
       " 'Y Venugopal Rao',\n",
       " 'YS Chahal'}"
      ]
     },
     "execution_count": 189,
     "metadata": {},
     "output_type": "execute_result"
    }
   ],
   "source": [
    "set(lis)"
   ]
  },
  {
   "cell_type": "markdown",
   "metadata": {},
   "source": [
    "# Which bowler has hit for maximum number of 1s/2s/3s/4s/6s?"
   ]
  },
  {
   "cell_type": "code",
   "execution_count": 15,
   "metadata": {},
   "outputs": [
    {
     "data": {
      "text/plain": [
       "'Harbhajan Singh'"
      ]
     },
     "execution_count": 15,
     "metadata": {},
     "output_type": "execute_result"
    }
   ],
   "source": [
    "delivery.query(\"batsman_runs==1\")['bowler'].value_counts().idxmax()"
   ]
  },
  {
   "cell_type": "code",
   "execution_count": 16,
   "metadata": {},
   "outputs": [
    {
     "data": {
      "text/plain": [
       "'A Mishra'"
      ]
     },
     "execution_count": 16,
     "metadata": {},
     "output_type": "execute_result"
    }
   ],
   "source": [
    "delivery.query(\"batsman_runs==2\")['bowler'].value_counts().idxmax()"
   ]
  },
  {
   "cell_type": "code",
   "execution_count": 17,
   "metadata": {},
   "outputs": [
    {
     "data": {
      "text/plain": [
       "'P Kumar'"
      ]
     },
     "execution_count": 17,
     "metadata": {},
     "output_type": "execute_result"
    }
   ],
   "source": [
    "delivery.query(\"batsman_runs==3\")['bowler'].value_counts().idxmax()"
   ]
  },
  {
   "cell_type": "code",
   "execution_count": 18,
   "metadata": {},
   "outputs": [
    {
     "data": {
      "text/plain": [
       "'UT Yadav'"
      ]
     },
     "execution_count": 18,
     "metadata": {},
     "output_type": "execute_result"
    }
   ],
   "source": [
    "delivery.query(\"batsman_runs==4\")['bowler'].value_counts().idxmax()"
   ]
  },
  {
   "cell_type": "code",
   "execution_count": 19,
   "metadata": {},
   "outputs": [
    {
     "data": {
      "text/plain": [
       "'AB Dinda'"
      ]
     },
     "execution_count": 19,
     "metadata": {},
     "output_type": "execute_result"
    }
   ],
   "source": [
    "delivery.query(\"batsman_runs==5\")['bowler'].value_counts().idxmax()"
   ]
  },
  {
   "cell_type": "code",
   "execution_count": 20,
   "metadata": {},
   "outputs": [
    {
     "data": {
      "text/plain": [
       "'PP Chawla'"
      ]
     },
     "execution_count": 20,
     "metadata": {},
     "output_type": "execute_result"
    }
   ],
   "source": [
    "delivery.query(\"batsman_runs==6\")['bowler'].value_counts().idxmax()"
   ]
  },
  {
   "cell_type": "markdown",
   "metadata": {},
   "source": [
    "# Which batsman got stumped out maximum number of times?"
   ]
  },
  {
   "cell_type": "code",
   "execution_count": 86,
   "metadata": {},
   "outputs": [
    {
     "data": {
      "text/plain": [
       "'SK Raina'"
      ]
     },
     "execution_count": 86,
     "metadata": {},
     "output_type": "execute_result"
    }
   ],
   "source": [
    "delivery.query(\"dismissal_kind=='stumped'\")['batsman'].value_counts().idxmax()"
   ]
  },
  {
   "cell_type": "markdown",
   "metadata": {},
   "source": [
    "# Which non-striker has been part of maximum number of runouts?"
   ]
  },
  {
   "cell_type": "code",
   "execution_count": 29,
   "metadata": {},
   "outputs": [
    {
     "data": {
      "text/plain": [
       "'SK Raina'"
      ]
     },
     "execution_count": 29,
     "metadata": {},
     "output_type": "execute_result"
    }
   ],
   "source": [
    "delivery.query(\"dismissal_kind=='run out'\")['non_striker'].value_counts().idxmax()"
   ]
  },
  {
   "cell_type": "markdown",
   "metadata": {},
   "source": [
    "# 5 new queries"
   ]
  },
  {
   "cell_type": "markdown",
   "metadata": {},
   "source": [
    "## 1. Which ipl team is more successful?"
   ]
  },
  {
   "cell_type": "code",
   "execution_count": 39,
   "metadata": {},
   "outputs": [
    {
     "name": "stdout",
     "output_type": "stream",
     "text": [
      "Mumbai Indians is most successful \n"
     ]
    },
    {
     "data": {
      "text/plain": [
       "<matplotlib.axes._subplots.AxesSubplot at 0x1a3b6cb2080>"
      ]
     },
     "execution_count": 39,
     "metadata": {},
     "output_type": "execute_result"
    },
    {
     "data": {
      "image/png": "[encoded data removed]",
      "text/plain": [
       "<Figure size 432x288 with 1 Axes>"
      ]
     },
     "metadata": {},
     "output_type": "display_data"
    }
   ],
   "source": [
    "import seaborn as sns\n",
    "print(\"{} is most successful \".format(df.winner.value_counts().idxmax()))\n",
    "sns.countplot(y='winner', data = df)\n",
    "data = df.winner.value_counts()\n",
    "sns.barplot(y = data.index, x = data, orient='h')"
   ]
  },
  {
   "cell_type": "markdown",
   "metadata": {},
   "source": [
    "## 2.Which season had most number of matches?"
   ]
  },
  {
   "cell_type": "code",
   "execution_count": 48,
   "metadata": {},
   "outputs": [
    {
     "name": "stdout",
     "output_type": "stream",
     "text": [
      "2013 had most number of matches \n"
     ]
    }
   ],
   "source": [
    "print(\"{} had most number of matches \".format(df.season.value_counts().idxmax()))"
   ]
  },
  {
   "cell_type": "markdown",
   "metadata": {},
   "source": [
    "## 3. Which Team had won by maximum runs?"
   ]
  },
  {
   "cell_type": "code",
   "execution_count": 53,
   "metadata": {},
   "outputs": [
    {
     "data": {
      "text/plain": [
       "'Mumbai Indians'"
      ]
     },
     "execution_count": 53,
     "metadata": {},
     "output_type": "execute_result"
    }
   ],
   "source": [
    "df['winner'][df.win_by_runs.idxmax()]"
   ]
  },
  {
   "cell_type": "markdown",
   "metadata": {},
   "source": [
    "## 4. How many matches we’ve got in the dataset?"
   ]
  },
  {
   "cell_type": "code",
   "execution_count": 54,
   "metadata": {},
   "outputs": [
    {
     "data": {
      "text/plain": [
       "11415"
      ]
     },
     "execution_count": 54,
     "metadata": {},
     "output_type": "execute_result"
    }
   ],
   "source": [
    "df.id.max()"
   ]
  },
  {
   "cell_type": "markdown",
   "metadata": {},
   "source": [
    "## 5. Has Toss-winning helped in Match-winning?"
   ]
  },
  {
   "cell_type": "code",
   "execution_count": 80,
   "metadata": {},
   "outputs": [],
   "source": [
    "from collections import Counter\n",
    "ss = df.query(\"toss_winner==winner\")\n",
    "total=np.size(ss)\n",
    "yes=np.count_nonzero(ss)\n",
    "no=total-yes"
   ]
  },
  {
   "cell_type": "code",
   "execution_count": 81,
   "metadata": {},
   "outputs": [
    {
     "name": "stdout",
     "output_type": "stream",
     "text": [
      "yes\n"
     ]
    }
   ],
   "source": [
    "if yes>no:\n",
    "    print(\"yes\")\n",
    "else:\n",
    "    print(\"no\")"
   ]
  }
 ],
 "metadata": {
  "kernelspec": {
   "display_name": "Python 3",
   "language": "python",
   "name": "python3"
  },
  "language_info": {
   "codemirror_mode": {
    "name": "ipython",
    "version": 3
   },
   "file_extension": ".py",
   "mimetype": "text/x-python",
   "name": "python",
   "nbconvert_exporter": "python",
   "pygments_lexer": "ipython3",
   "version": "3.6.5"
  }
 },
 "nbformat": 4,
 "nbformat_minor": 2
}
